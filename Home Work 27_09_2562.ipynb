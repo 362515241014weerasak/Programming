{
 "cells": [
  {
   "cell_type": "code",
   "execution_count": 1,
   "metadata": {},
   "outputs": [
    {
     "name": "stdout",
     "output_type": "stream",
     "text": [
      "Enter number1\n"
     ]
    }
   ],
   "source": [
    "#ข้อ1 รับค่าตัวเลขเข้ามาหนึ่งจำนวนแล้วดูว่าค่าตั้งแต่ 1 ถึงค่าที่ป้อนเข้ามามีค่าใดหาร 29 ลงตัวบ้าง\n",
    "n = int(input(\"Enter number\"))\n",
    "for i in range(1,n+1):\n",
    "    if i % 29 == 0:\n",
    "        print(i)"
   ]
  },
  {
   "cell_type": "code",
   "execution_count": null,
   "metadata": {},
   "outputs": [],
   "source": [
    "#ข้อ2 ร้านขายพิซซ่าแห่งหนึ่งมีโปรโมชั่นซื้อ 2 ถาด ขึ้นไปจะลดราคาให้ 20 %\n",
    "n = int(input(\"จำนวนพิซซ่า :\"))\n",
    "money = int(input(\"ราคา :\"))\n",
    "total = 0\n",
    "if n > 2:\n",
    "    total = money-(money*0.1)\n",
    "    print(\"ราคาที่ต้องจ่าย\", total)\n",
    "else:\n",
    "    print(\"ราคาที่ต้องจ่าย :\", money, \"บาท\")"
   ]
  },
  {
   "cell_type": "code",
   "execution_count": null,
   "metadata": {},
   "outputs": [],
   "source": [
    "#ข้อ3 ใส่ค่าด้านของสี่เหลี่ยมพื้นผ้าแล้วหาพื้นที่แล้วแสดงความกว้างออกมาว่าอยู่ในเกณฑ์ที่ใหญ่แค่ไหน\n",
    "w = int(input(\"เดิมค่าความกว้าง :\"))\n",
    "l = int(input(\"เติมค่าความยาว :\"))\n",
    "rectangle = w * l\n",
    "print(rectangle,\"ตารางเมตร\")\n",
    "if rectangle > 100:\n",
    "    print(\"ใหญ่มาก\")\n",
    "elif rectangle >= 70:\n",
    "    print(\"ใหญ่\")\n",
    "elif rectangle >=40:\n",
    "    print(\"ปานกลาง\")\n",
    "elif rectangle >=20:\n",
    "    print(\"เล็ก\")\n",
    "else:\n",
    "    print(\"เล็กมาก\")"
   ]
  },
  {
   "cell_type": "code",
   "execution_count": null,
   "metadata": {},
   "outputs": [],
   "source": [
    "#ข้อ4 นำตัวเลขกี่จำนวนก็ได้มาบวกกันแล้วหาค่าเฉลี่ยเลขคณิตแต่ตัวเลขที่บวกกันตัวสุดท้ายต้องเป็น 0\n",
    "sum = 0\n",
    "count = 0\n",
    "number = int(input(\"ใส่ตัวเลข :\"))\n",
    "while number != 0:\n",
    "    sum += number\n",
    "    count += 1\n",
    "    number = int(input(\"ใส่ตัวเลข :\"))\n",
    "avg = sum/count\n",
    "print(\"ค่าเฉลี่ย =\", avg)"
   ]
  },
  {
   "cell_type": "code",
   "execution_count": null,
   "metadata": {},
   "outputs": [],
   "source": [
    "#ช้อ5 กำหนดแท่งเหล็กแท่งหนึ่งยาวเท่าไหร่ก็ได้และนำมาต่อกันแท่งเหล็กที่มีความยาว 5.2 เมตร แล้วตัดไปทำโต๊ะขนาด 1.5 เมตร แท่งเหล็กจะมีความเลืออีกกี่เมตร\n",
    "n = int(input(\"ความยาวของแท่งเหล็ก :\"))\n",
    "long = 5.2\n",
    "table = 1.5\n",
    "total = (n+5.2)-1.5\n",
    "print(\"เหลือแท่งเหล็กยาว :\", total)"
   ]
  },
  {
   "cell_type": "code",
   "execution_count": 2,
   "metadata": {},
   "outputs": [
    {
     "name": "stdout",
     "output_type": "stream",
     "text": [
      "ตัวตั้งหาร :5\n",
      "ตัวหาร :2\n",
      "หารไม่ลงตัว\n"
     ]
    }
   ],
   "source": [
    "#ข้อ6 หาว่าตัวเลขที่หารจำนวนที่กำหนดนั้นหารลงตัวหรือไม่\n",
    "number = int(input(\"ตัวตั้งหาร :\"))\n",
    "n = int(input(\"ตัวหาร :\"))\n",
    "if n % number ==0:\n",
    "    print(\"หารลงตัว\")\n",
    "else:\n",
    "    print(\"หารไม่ลงตัว\")\n"
   ]
  },
  {
   "cell_type": "code",
   "execution_count": 4,
   "metadata": {},
   "outputs": [
    {
     "name": "stdout",
     "output_type": "stream",
     "text": [
      "ค่ารัศมี :5\n",
      "พื้นที่วงกลม = 31.41592653589793\n"
     ]
    }
   ],
   "source": [
    "#ข้อ7 หาพื้นที่วงกลม\n",
    "import math\n",
    "radius = int(input(\"ค่ารัศมี :\"))\n",
    "result = 2*math.pi*radius\n",
    "print(\"พื้นที่วงกลม =\", result)"
   ]
  },
  {
   "cell_type": "code",
   "execution_count": 8,
   "metadata": {},
   "outputs": [
    {
     "name": "stdout",
     "output_type": "stream",
     "text": [
      "ใส่องศา :30\n",
      "sin = -0.9880316240928618 cos = 0.15425144988758405 tan = -6.405331196646276\n"
     ]
    }
   ],
   "source": [
    "#ข้อ8 กำหนดองศาแล้วนำไปหาค่า sin cos tan \n",
    "import math\n",
    "degree = float(input(\"ใส่องศา :\"))\n",
    "sin = math.sin(degree)\n",
    "cos = math.cos(degree)\n",
    "tan = math.tan (degree)\n",
    "print(\"sin =\",sin, \"cos =\",cos, \"tan =\",tan)"
   ]
  },
  {
   "cell_type": "code",
   "execution_count": 15,
   "metadata": {},
   "outputs": [
    {
     "name": "stdout",
     "output_type": "stream",
     "text": [
      "กำหนดค่า n =100\n",
      "ผลรวม = 5050\n"
     ]
    }
   ],
   "source": [
    "#ข้อ9 จงหาผลบวกตั้งแต่ 1 ถึง n\n",
    "sum = 0\n",
    "n = int(input(\"กำหนดค่า n =\"))\n",
    "for i in range(1,n+1):\n",
    "    sum += i\n",
    "print(\"ผลรวม =\",sum)"
   ]
  },
  {
   "cell_type": "code",
   "execution_count": 16,
   "metadata": {},
   "outputs": [
    {
     "name": "stdout",
     "output_type": "stream",
     "text": [
      "ใช้หน่วยเป็น เมตร\n",
      "ผ้ายาว :10\n",
      "ผ้ายาวทั้งหมด : 32.81 ฟุต\n"
     ]
    }
   ],
   "source": [
    "#ข้อ10  กำหนดให้ 1 เมตร เท่ากับ 3.281 ฟุต ผ้าผืนหนึ่งยาว กำหนดเอง เมตร จะยาวกี่ฟุต\n",
    "print(\"ใช้หน่วยเป็น เมตร\")\n",
    "m = int(input(\"ผ้ายาว :\"))\n",
    "foot = 3.281\n",
    "result = m*foot\n",
    "print(\"ผ้ายาวทั้งหมด :\", result, \"ฟุต\")"
   ]
  },
  {
   "cell_type": "code",
   "execution_count": null,
   "metadata": {},
   "outputs": [],
   "source": []
  }
 ],
 "metadata": {
  "kernelspec": {
   "display_name": "Python 3",
   "language": "python",
   "name": "python3"
  },
  "language_info": {
   "codemirror_mode": {
    "name": "ipython",
    "version": 3
   },
   "file_extension": ".py",
   "mimetype": "text/x-python",
   "name": "python",
   "nbconvert_exporter": "python",
   "pygments_lexer": "ipython3",
   "version": "3.7.3"
  }
 },
 "nbformat": 4,
 "nbformat_minor": 2
}
